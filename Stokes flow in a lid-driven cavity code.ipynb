{
 "cells": [
  {
   "cell_type": "markdown",
   "metadata": {},
   "source": [
    "# Stokes flow in a lid-driven cavity "
   ]
  },
  {
   "cell_type": "markdown",
   "metadata": {},
   "source": [
    "Equations de Navier-Stokes pour un fluide incompressible :\n",
    "<a href=\"http://www.codecogs.com/eqnedit.php?latex=\\frac{\\partial&space;u}{\\partial&space;t}&plus;u\\cdot&space;\\triangledown&space;u=-\\frac{1}{\\rho&space;}\\triangledown&space;p&plus;v\\triangledown&space;^{2}u\" target=\"_blank\"><img src=\"http://latex.codecogs.com/gif.latex?\\frac{\\partial&space;u}{\\partial&space;t}&plus;u\\cdot&space;\\triangledown&space;u=-\\frac{1}{\\rho&space;}\\triangledown&space;p&plus;v\\triangledown&space;^{2}u\" title=\"\\frac{\\partial u}{\\partial t}+u\\cdot \\triangledown u=-\\frac{1}{\\rho }\\triangledown p+v\\triangledown ^{2}u\" /></a>\n",
    "Dans le cas non dimensionnel :\n",
    "<a href=\"http://www.codecogs.com/eqnedit.php?latex=\\frac{\\partial&space;u^{\\ast&space;}}{\\partial&space;t}&plus;u^{\\ast&space;}\\cdot&space;\\triangledown&space;u^{\\ast&space;}=-\\triangledown&space;p^{\\ast&space;}&plus;\\triangledown&space;^{2}u^{\\ast&space;}\" target=\"_blank\"><img src=\"http://latex.codecogs.com/gif.latex?\\frac{\\partial&space;u^{\\ast&space;}}{\\partial&space;t}&plus;u^{\\ast&space;}\\cdot&space;\\triangledown&space;u^{\\ast&space;}=-\\triangledown&space;p^{\\ast&space;}&plus;\\triangledown&space;^{2}u^{\\ast&space;}\" title=\"\\frac{\\partial u^{\\ast }}{\\partial t}+u^{\\ast }\\cdot \\triangledown u^{\\ast }=-\\triangledown p^{\\ast }+\\triangledown ^{2}u^{\\ast }\" /></a>\n",
    "\n",
    "ou u et p sont des vitesse et pression non dimensinnel. Pour obtenir le fleuid de Stokes, nous supposons que le nombre de Reynolds approche de zéro\n",
    "\n",
    "\n",
    "<a href=\"http://www.codecogs.com/eqnedit.php?latex=0=-\\triangledown&space;p&plus;\\triangledown&space;^{2}u\" target=\"_blank\"><img src=\"http://latex.codecogs.com/gif.latex?0=-\\triangledown&space;p&plus;\\triangledown&space;^{2}u\" title=\"0=-\\triangledown p+\\triangledown ^{2}u\" /></a>\n",
    "\n",
    "<a href=\"http://www.codecogs.com/eqnedit.php?latex=\\triangledown&space;\\times&space;0=\\triangledown&space;\\times&space;(-\\triangledown&space;p&plus;\\triangledown&space;^{2}u)\" target=\"_blank\"><img src=\"http://latex.codecogs.com/gif.latex?\\triangledown&space;\\times&space;0=\\triangledown&space;\\times&space;(-\\triangledown&space;p&plus;\\triangledown&space;^{2}u)\" title=\"\\triangledown \\times 0=\\triangledown \\times (-\\triangledown p+\\triangledown ^{2}u)\" /></a>\n",
    "\n",
    "<a href=\"http://www.codecogs.com/eqnedit.php?latex=\\triangledown&space;\\times&space;\\triangledown&space;p=0\" target=\"_blank\"><img src=\"http://latex.codecogs.com/gif.latex?\\triangledown&space;\\times&space;\\triangledown&space;p=0\" title=\"\\triangledown \\times \\triangledown p=0\" /></a>\n",
    "\n",
    "<a href=\"http://www.codecogs.com/eqnedit.php?latex=\\triangledown&space;\\times&space;\\triangledown&space;^{2}u=&space;\\triangledown&space;^{2}\\triangledown&space;\\times&space;u=\\triangledown&space;^{2}\\omega\" target=\"_blank\"><img src=\"http://latex.codecogs.com/gif.latex?\\triangledown&space;\\times&space;\\triangledown&space;^{2}u=&space;\\triangledown&space;^{2}\\triangledown&space;\\times&space;u=\\triangledown&space;^{2}\\omega\" title=\"\\triangledown \\times \\triangledown ^{2}u= \\triangledown ^{2}\\triangledown \\times u=\\triangledown ^{2}\\omega\" /></a>\n",
    "\n",
    "ou omega est la vorticité .on a alors:\n",
    "\n",
    "<a href=\"http://www.codecogs.com/eqnedit.php?latex=\\triangledown&space;^{2}\\omega&space;=0\" target=\"_blank\"><img src=\"http://latex.codecogs.com/gif.latex?\\triangledown&space;^{2}\\omega&space;=0\" title=\"\\triangledown ^{2}\\omega =0\" /></a>\n",
    "\n",
    "On définit la fonction de flux (stream function)telle que:\n",
    "\n",
    "<a href=\"http://www.codecogs.com/eqnedit.php?latex=v=-\\frac{\\partial&space;\\Psi&space;}{\\partial&space;x}\" target=\"_blank\"><img src=\"http://latex.codecogs.com/gif.latex?v=-\\frac{\\partial&space;\\Psi&space;}{\\partial&space;x}\" title=\"v=-\\frac{\\partial \\Psi }{\\partial x}\" /></a>\n",
    "\n",
    "<a href=\"http://www.codecogs.com/eqnedit.php?latex=u=\\frac{\\partial&space;\\Psi&space;}{\\partial&space;y}\" target=\"_blank\"><img src=\"http://latex.codecogs.com/gif.latex?u=\\frac{\\partial&space;\\Psi&space;}{\\partial&space;y}\" title=\"u=\\frac{\\partial \\Psi }{\\partial y}\" /></a>\n",
    "\n",
    "\n",
    "En 2 dimension, on peut écrire pour la vorticité\n",
    "\n",
    "<a href=\"http://www.codecogs.com/eqnedit.php?latex=\\omega&space;=\\frac{\\partial&space;v}{\\partial&space;x}-\\frac{\\partial&space;u}{\\partial&space;y}\" target=\"_blank\"><img src=\"http://latex.codecogs.com/gif.latex?\\omega&space;=\\frac{\\partial&space;v}{\\partial&space;x}-\\frac{\\partial&space;u}{\\partial&space;y}\" title=\"\\omega =\\frac{\\partial v}{\\partial x}-\\frac{\\partial u}{\\partial y}\" /></a>\n",
    "\n",
    "<a href=\"http://www.codecogs.com/eqnedit.php?latex=\\omega&space;=\\frac{\\partial^{2}\\Psi&space;}{\\partial^{2}&space;x}-\\frac{\\partial^{2}\\Psi&space;}&space;{\\partial^{2}&space;y}\" target=\"_blank\"><img src=\"http://latex.codecogs.com/gif.latex?\\omega&space;=\\frac{\\partial^{2}\\Psi&space;}{\\partial^{2}&space;x}-\\frac{\\partial^{2}\\Psi&space;}&space;{\\partial^{2}&space;y}\" title=\"\\omega =\\frac{\\partial^{2}\\Psi }{\\partial^{2} x}-\\frac{\\partial^{2}\\Psi } {\\partial^{2} y}\" /></a>\n",
    "\n",
    "alors\n",
    "\n",
    "<a href=\"http://www.codecogs.com/eqnedit.php?latex=\\triangledown&space;^{2}\\Psi&space;=-\\omega\" target=\"_blank\"><img src=\"http://latex.codecogs.com/gif.latex?\\triangledown&space;^{2}\\Psi&space;=-\\omega\" title=\"\\triangledown ^{2}\\Psi =-\\omega\" /></a>"
   ]
  },
  {
   "cell_type": "markdown",
   "metadata": {},
   "source": [
    "Nous avons donc un système de deux équations couplées qui peuvent décrire le flux de fluide dans une cavité à couvercle à très faible nombre de Reynolds.\n",
    "\n",
    "<a href=\"http://www.codecogs.com/eqnedit.php?latex=\\triangledown&space;^{2}\\omega&space;=0\" target=\"_blank\"><img src=\"http://latex.codecogs.com/gif.latex?\\triangledown&space;^{2}\\omega&space;=0\" title=\"\\triangledown ^{2}\\omega =0\" /></a>\n",
    "\n",
    "<a href=\"http://www.codecogs.com/eqnedit.php?latex=\\triangledown&space;^{2}\\Psi&space;=-\\omega\" target=\"_blank\"><img src=\"http://latex.codecogs.com/gif.latex?\\triangledown&space;^{2}\\Psi&space;=-\\omega\" title=\"\\triangledown ^{2}\\Psi =-\\omega\" /></a>\n",
    "\n",
    "C'est un système de deux équations dont la première est une equation laplace et la deuxième est une equation de poisson.nous faisons une discrétisation pour les 2 equations .\n",
    "\n"
   ]
  },
  {
   "cell_type": "markdown",
   "metadata": {},
   "source": [
    "# Discrétisation"
   ]
  },
  {
   "cell_type": "markdown",
   "metadata": {},
   "source": [
    "<a href=\"http://www.codecogs.com/eqnedit.php?latex=\\triangledown&space;^{2}\\Psi&space;=-\\omega\" target=\"_blank\"><img src=\"http://latex.codecogs.com/gif.latex?\\triangledown&space;^{2}\\Psi&space;=-\\omega\" title=\"\\triangledown ^{2}\\Psi =-\\omega\" /></a>\n",
    "\n",
    "\n",
    "\n",
    "\n",
    "<a href=\"http://www.codecogs.com/eqnedit.php?latex=\\frac{\\Psi&space;_{i&plus;1,j}-2\\Psi&space;_{i,j}&plus;\\Psi&space;_{i-1,j}}{\\triangle&space;x^{2}}&plus;\\frac{\\Psi&space;_{i,j&plus;1}-2\\Psi&space;_{i,j}&plus;\\Psi&space;_{i,j-1}}{\\triangle&space;y^{2}}=-\\omega&space;_{i,j}\" target=\"_blank\"><img src=\"http://latex.codecogs.com/gif.latex?\\frac{\\Psi&space;_{i&plus;1,j}-2\\Psi&space;_{i,j}&plus;\\Psi&space;_{i-1,j}}{\\triangle&space;x^{2}}&plus;\\frac{\\Psi&space;_{i,j&plus;1}-2\\Psi&space;_{i,j}&plus;\\Psi&space;_{i,j-1}}{\\triangle&space;y^{2}}=-\\omega&space;_{i,j}\" title=\"\\frac{\\Psi _{i+1,j}-2\\Psi _{i,j}+\\Psi _{i-1,j}}{\\triangle x^{2}}+\\frac{\\Psi _{i,j+1}-2\\Psi _{i,j}+\\Psi _{i,j-1}}{\\triangle y^{2}}=-\\omega _{i,j}\" /></a>\n",
    "\n",
    "\n",
    "\n",
    "\n",
    "\n",
    "<a href=\"http://www.codecogs.com/eqnedit.php?latex=\\Psi^{k&plus;1}&space;_{i,j}=\\frac{1}{2(\\triangle&space;x^{2}&plus;\\triangle&space;y^{2})}(&space;\\triangle&space;x^{2}(\\Psi^{k}&space;_{i,j&plus;1}&plus;\\Psi^{k}&space;_{i,j-1})&plus;\\triangle&space;y^{2}(\\Psi^{k}&space;_{i&plus;1,j}&plus;\\Psi^{k}&space;_{i-1,j})&plus;\\triangle&space;x^{2}\\triangle&space;y^{2}\\omega^{k}&space;_{i,j})\" target=\"_blank\"><img src=\"http://latex.codecogs.com/gif.latex?\\Psi^{k&plus;1}&space;_{i,j}=\\frac{1}{2(\\triangle&space;x^{2}&plus;\\triangle&space;y^{2})}(&space;\\triangle&space;x^{2}(\\Psi^{k}&space;_{i,j&plus;1}&plus;\\Psi^{k}&space;_{i,j-1})&plus;\\triangle&space;y^{2}(\\Psi^{k}&space;_{i&plus;1,j}&plus;\\Psi^{k}&space;_{i-1,j})&plus;\\triangle&space;x^{2}\\triangle&space;y^{2}\\omega^{k}&space;_{i,j})\" title=\"\\Psi^{k+1} _{i,j}=\\frac{1}{2(\\triangle x^{2}+\\triangle y^{2})}( \\triangle x^{2}(\\Psi^{k} _{i,j+1}+\\Psi^{k} _{i,j-1})+\\triangle y^{2}(\\Psi^{k} _{i+1,j}+\\Psi^{k} _{i-1,j})+\\triangle x^{2}\\triangle y^{2}\\omega^{k} _{i,j})\" /></a>\n",
    "\n",
    "\n",
    "\n",
    "\n",
    "\n",
    "\n",
    "<a href=\"http://www.codecogs.com/eqnedit.php?latex=\\triangledown&space;^{2}\\omega&space;=0\" target=\"_blank\"><img src=\"http://latex.codecogs.com/gif.latex?\\triangledown&space;^{2}\\omega&space;=0\" title=\"\\triangledown ^{2}\\omega =0\" /></a>\n",
    "\n",
    "\n",
    "\n",
    "\n",
    "\n",
    "\n",
    "<a href=\"http://www.codecogs.com/eqnedit.php?latex=\\frac{\\omega&space;_{i&plus;1,j}-2\\omega&space;_{i,j}&plus;\\omega&space;_{i-1,j}}{\\triangle&space;x^{2}}&plus;\\frac{\\omega&space;_{i,j&plus;1}-2\\omega&space;_{i,j}&plus;\\omega&space;_{i,j-1}}{\\triangle&space;y^{2}}=0\" target=\"_blank\"><img src=\"http://latex.codecogs.com/gif.latex?\\frac{\\omega&space;_{i&plus;1,j}-2\\omega&space;_{i,j}&plus;\\omega&space;_{i-1,j}}{\\triangle&space;x^{2}}&plus;\\frac{\\omega&space;_{i,j&plus;1}-2\\omega&space;_{i,j}&plus;\\omega&space;_{i,j-1}}{\\triangle&space;y^{2}}=0\" title=\"\\frac{\\omega _{i+1,j}-2\\omega _{i,j}+\\omega _{i-1,j}}{\\triangle x^{2}}+\\frac{\\omega _{i,j+1}-2\\omega _{i,j}+\\omega _{i,j-1}}{\\triangle y^{2}}=0\" /></a>\n",
    "\n",
    "\n",
    "\n",
    "\n",
    "\n",
    "\n",
    "<a href=\"http://www.codecogs.com/eqnedit.php?latex=\\omega^{k&plus;1}&space;_{i,j}=\\frac{1}{2(\\triangle&space;x^{2}&plus;\\triangle&space;y^{2})}((\\omega^{k}&space;_{i&plus;1,j}&plus;\\omega^{k}&space;_{i-1,j})\\triangle&space;y^{2}&plus;(\\omega^{k}&space;_{i,j&plus;1}&plus;\\omega^{k}&space;_{i,j-1})\\triangle&space;x^{2})\" target=\"_blank\"><img src=\"http://latex.codecogs.com/gif.latex?\\omega^{k&plus;1}&space;_{i,j}=\\frac{1}{2(\\triangle&space;x^{2}&plus;\\triangle&space;y^{2})}((\\omega^{k}&space;_{i&plus;1,j}&plus;\\omega^{k}&space;_{i-1,j})\\triangle&space;y^{2}&plus;(\\omega^{k}&space;_{i,j&plus;1}&plus;\\omega^{k}&space;_{i,j-1})\\triangle&space;x^{2})\" title=\"\\omega^{k+1} _{i,j}=\\frac{1}{2(\\triangle x^{2}+\\triangle y^{2})}((\\omega^{k} _{i+1,j}+\\omega^{k} _{i-1,j})\\triangle y^{2}+(\\omega^{k} _{i,j+1}+\\omega^{k} _{i,j-1})\\triangle x^{2})\" /></a>\n",
    "\n",
    "\n",
    "\n",
    "\n"
   ]
  },
  {
   "cell_type": "markdown",
   "metadata": {},
   "source": [
    "# Condition aux bords"
   ]
  },
  {
   "cell_type": "markdown",
   "metadata": {},
   "source": [
    "trouver la condition aux bords pour omega pour la surface inférieure. \n",
    "\n",
    "Il n'y a pas de vitesse dans la direction y parce que la surface est solide.Alors nous avons:\n",
    "    \n",
    " <a href=\"http://www.codecogs.com/eqnedit.php?latex=\\omega&space;=-\\frac{\\partial&space;^{2}\\Psi&space;}{\\partial&space;^{2}y}\" target=\"_blank\"><img src=\"http://latex.codecogs.com/gif.latex?\\omega&space;=-\\frac{\\partial&space;^{2}\\Psi&space;}{\\partial&space;^{2}y}\" title=\"\\omega =-\\frac{\\partial ^{2}\\Psi }{\\partial ^{2}y}\" /></a>\n",
    "    \n",
    " \n",
    " \n",
    " <a href=\"http://www.codecogs.com/eqnedit.php?latex=\\omega_{j}&space;=-(\\frac{\\Psi&space;_{j&plus;1}-2\\Psi&space;_{j}&plus;\\Psi&space;_{j-1}}{\\triangle&space;y^{2}})\" target=\"_blank\"><img src=\"http://latex.codecogs.com/gif.latex?\\omega_{j}&space;=-(\\frac{\\Psi&space;_{j&plus;1}-2\\Psi&space;_{j}&plus;\\Psi&space;_{j-1}}{\\triangle&space;y^{2}})\" title=\"\\omega_{j} =-(\\frac{\\Psi _{j+1}-2\\Psi _{j}+\\Psi _{j-1}}{\\triangle y^{2}})\" /></a>\n",
    " \n",
    " \n",
    " \n",
    " mais le psi (j-1) n'est pas dans la domaine.Prenons maintenant une discrétisation de 3ème ordre de dérivé partielle ,Évalué le long du bord inférieure :\n",
    " \n",
    " <a href=\"http://www.codecogs.com/eqnedit.php?latex=0=\\frac{\\partial&space;\\Psi&space;}{\\partial&space;y}\\mid&space;_{j}&space;=\\frac{-\\Psi&space;_{j&plus;2}&plus;6\\Psi&space;_{j&plus;1}-3\\Psi&space;_{j}-2\\Psi&space;_{j-1}}{6\\triangle&space;y}\" target=\"_blank\"><img src=\"http://latex.codecogs.com/gif.latex?0=\\frac{\\partial&space;\\Psi&space;}{\\partial&space;y}\\mid&space;_{j}&space;=\\frac{-\\Psi&space;_{j&plus;2}&plus;6\\Psi&space;_{j&plus;1}-3\\Psi&space;_{j}-2\\Psi&space;_{j-1}}{6\\triangle&space;y}\" title=\"0=\\frac{\\partial \\Psi }{\\partial y}\\mid _{j} =\\frac{-\\Psi _{j+2}+6\\Psi _{j+1}-3\\Psi _{j}-2\\Psi _{j-1}}{6\\triangle y}\" /></a>\n",
    " \n",
    " \n",
    " <a href=\"http://www.codecogs.com/eqnedit.php?latex=\\Psi&space;_{j-1}=\\frac{1}{2}(-\\Psi&space;_{j&plus;2}&plus;6\\Psi&space;_{j&plus;1}-3\\Psi&space;_{j})\" target=\"_blank\"><img src=\"http://latex.codecogs.com/gif.latex?\\Psi&space;_{j-1}=\\frac{1}{2}(-\\Psi&space;_{j&plus;2}&plus;6\\Psi&space;_{j&plus;1}-3\\Psi&space;_{j})\" title=\"\\Psi _{j-1}=\\frac{1}{2}(-\\Psi _{j+2}+6\\Psi _{j+1}-3\\Psi _{j})\" /></a>\n",
    " \n",
    " condition aux bords pour la surface inférieure:\n",
    " \n",
    " \n",
    "<a href=\"http://www.codecogs.com/eqnedit.php?latex=\\omega_{i,j}&space;=-\\frac{1}{2\\triangle&space;y^{2}}(8\\Psi&space;_{j&plus;1}-\\Psi_{j&plus;2})\" target=\"_blank\"><img src=\"http://latex.codecogs.com/gif.latex?\\omega_{i,j}&space;=-\\frac{1}{2\\triangle&space;y^{2}}(8\\Psi&space;_{j&plus;1}-\\Psi_{j&plus;2})\" title=\"\\omega_{i,j} =-\\frac{1}{2\\triangle y^{2}}(8\\Psi _{j+1}-\\Psi_{j+2})\" /></a>\n",
    "\n",
    "\n",
    "condition aux bords pour la surface supérieur :\n",
    "\n",
    "\n",
    "\n",
    "<a href=\"http://www.codecogs.com/eqnedit.php?latex=\\omega&space;_{i,j}=-\\frac{1}{2\\triangle&space;y^{2}}(8\\Psi&space;_{i,j-1}-\\Psi&space;_{i,j-2})-\\frac{3u_{j}}{\\triangle&space;y}\" target=\"_blank\"><img src=\"http://latex.codecogs.com/gif.latex?\\omega&space;_{i,j}=-\\frac{1}{2\\triangle&space;y^{2}}(8\\Psi&space;_{i,j-1}-\\Psi&space;_{i,j-2})-\\frac{3u_{j}}{\\triangle&space;y}\" title=\"\\omega _{i,j}=-\\frac{1}{2\\triangle y^{2}}(8\\Psi _{i,j-1}-\\Psi _{i,j-2})-\\frac{3u_{j}}{\\triangle y}\" /></a>\n",
    "\n",
    "\n",
    "condition aux bords pour la surface à gauche :\n",
    "\n",
    "<a href=\"http://www.codecogs.com/eqnedit.php?latex=\\omega_{i,j}&space;=-\\frac{1}{2\\triangle&space;x^{2}}(8\\Psi&space;_{i&plus;1}-\\Psi_{i&plus;2})\" target=\"_blank\"><img src=\"http://latex.codecogs.com/gif.latex?\\omega_{i,j}&space;=-\\frac{1}{2\\triangle&space;x^{2}}(8\\Psi&space;_{i&plus;1}-\\Psi_{i&plus;2})\" title=\"\\omega_{i,j} =-\\frac{1}{2\\triangle x^{2}}(8\\Psi _{i+1}-\\Psi_{i+2})\" /></a>\n",
    "\n",
    "\n",
    "condition aux bords pour la surface à droite :\n",
    "Il n'y a pas de vitesse dans la direction x parce que la surface est solide.Alors nous avons:\n",
    "\n",
    "<a href=\"http://www.codecogs.com/eqnedit.php?latex=\\omega&space;=-\\frac{\\partial&space;^{2}\\Psi&space;}{\\partial&space;^{2}x}\" target=\"_blank\"><img src=\"http://latex.codecogs.com/gif.latex?\\omega&space;=-\\frac{\\partial&space;^{2}\\Psi&space;}{\\partial&space;^{2}x}\" title=\"\\omega =-\\frac{\\partial ^{2}\\Psi }{\\partial ^{2}x}\" /></a>\n",
    "\n",
    "\n",
    "\n",
    "<a href=\"http://www.codecogs.com/eqnedit.php?latex=\\omega_{i}&space;=-(\\frac{\\Psi&space;_{i&plus;1}-2\\Psi&space;_{i}&plus;\\Psi&space;_{i-1}}{\\triangle&space;x^{2}})\" target=\"_blank\"><img src=\"http://latex.codecogs.com/gif.latex?\\omega_{i}&space;=-(\\frac{\\Psi&space;_{i&plus;1}-2\\Psi&space;_{i}&plus;\\Psi&space;_{i-1}}{\\triangle&space;x^{2}})\" title=\"\\omega_{i} =-(\\frac{\\Psi _{i+1}-2\\Psi _{i}+\\Psi _{i-1}}{\\triangle x^{2}})\" /></a>\n",
    "\n",
    "mais le psi (i+1) n'est pas dans la domaine.Prenons maintenant une discrétisation de 3ème ordre de dérivé partielle ,Évalué le long du bord inférieure :\n",
    "\n",
    "<a href=\"http://www.codecogs.com/eqnedit.php?latex=0=\\frac{\\partial&space;\\Psi&space;}{\\partial&space;x}\\mid&space;_{i}&space;=\\frac{2\\Psi&space;_{i&plus;1}&plus;3\\Psi&space;_{i}-6\\Psi&space;_{i-1}&plus;\\Psi&space;_{i-2}}{6\\triangle&space;x}\" target=\"_blank\"><img src=\"http://latex.codecogs.com/gif.latex?0=\\frac{\\partial&space;\\Psi&space;}{\\partial&space;x}\\mid&space;_{i}&space;=\\frac{2\\Psi&space;_{i&plus;1}&plus;3\\Psi&space;_{i}-6\\Psi&space;_{i-1}&plus;\\Psi&space;_{i-2}}{6\\triangle&space;x}\" title=\"0=\\frac{\\partial \\Psi }{\\partial x}\\mid _{i} =\\frac{2\\Psi _{i+1}+3\\Psi _{i}-6\\Psi _{i-1}+\\Psi _{i-2}}{6\\triangle x}\" /></a>\n",
    "\n",
    "<a href=\"http://www.codecogs.com/eqnedit.php?latex=\\Psi&space;_{i&plus;1}=\\frac{1}{2}(-3\\Psi&space;_{i}&plus;6\\Psi&space;_{i-1}-\\Psi&space;_{i-2})\" target=\"_blank\"><img src=\"http://latex.codecogs.com/gif.latex?\\Psi&space;_{i&plus;1}=\\frac{1}{2}(-3\\Psi&space;_{i}&plus;6\\Psi&space;_{i-1}-\\Psi&space;_{i-2})\" title=\"\\Psi _{i+1}=\\frac{1}{2}(-3\\Psi _{i}+6\\Psi _{i-1}-\\Psi _{i-2})\" /></a>\n",
    "\n",
    "\n",
    "<a href=\"http://www.codecogs.com/eqnedit.php?latex=\\omega_{i,j}&space;=-\\frac{1}{2\\triangle&space;x^{2}}(8\\Psi&space;_{i-1}-\\Psi_{i-2})\" target=\"_blank\"><img src=\"http://latex.codecogs.com/gif.latex?\\omega_{i,j}&space;=-\\frac{1}{2\\triangle&space;x^{2}}(8\\Psi&space;_{i-1}-\\Psi_{i-2})\" title=\"\\omega_{i,j} =-\\frac{1}{2\\triangle x^{2}}(8\\Psi _{i-1}-\\Psi_{i-2})\" /></a>\n",
    "\n"
   ]
  },
  {
   "cell_type": "markdown",
   "metadata": {},
   "source": [
    "# code"
   ]
  },
  {
   "cell_type": "markdown",
   "metadata": {},
   "source": [
    "importer des librairie "
   ]
  },
  {
   "cell_type": "code",
   "execution_count": 1,
   "metadata": {
    "collapsed": true
   },
   "outputs": [],
   "source": [
    "\n",
    "from matplotlib import pyplot\n",
    "import numpy\n",
    "%matplotlib inline\n",
    "from matplotlib import rcParams\n",
    "rcParams['font.family'] = 'serif'\n",
    "rcParams['font.size'] = 16\n",
    "from mpl_toolkits.mplot3d import Axes3D\n",
    "from matplotlib import cm"
   ]
  },
  {
   "cell_type": "markdown",
   "metadata": {},
   "source": [
    "# paramètres donnés "
   ]
  },
  {
   "cell_type": "code",
   "execution_count": 2,
   "metadata": {
    "collapsed": true
   },
   "outputs": [],
   "source": [
    "\n",
    "nx = 41  #Nombre de points de grille dans la direction x\n",
    "ny = 41  #Nombre de points de grille dans la direction y\n",
    "\n",
    "l = 1.   #max de x\n",
    "h = 1.   #max de y\n",
    "\n",
    "dx = l/(nx-1)# pas de discrétisation de x\n",
    "dy = h/(ny-1)#pas de discrétisation de y\n",
    "\n",
    "l1_target = 1e-6"
   ]
  },
  {
   "cell_type": "markdown",
   "metadata": {},
   "source": [
    "# Fonctions auxiliaires donnés au annoncé"
   ]
  },
  {
   "cell_type": "code",
   "execution_count": 3,
   "metadata": {
    "collapsed": true
   },
   "outputs": [],
   "source": [
    "def L1norm(new, old):\n",
    "    norm = numpy.sum(numpy.abs(new-old))\n",
    "    return norm"
   ]
  },
  {
   "cell_type": "markdown",
   "metadata": {},
   "source": [
    "# Fonction pour \"réinitialiser\" la estimation initiale pour chaque grille"
   ]
  },
  {
   "cell_type": "code",
   "execution_count": 4,
   "metadata": {
    "collapsed": true
   },
   "outputs": [],
   "source": [
    "def initial_guess(nx, ny, l, h):\n",
    "    '''initialisation des estimations initiale (initial guess)et autres variables:\n",
    "   \n",
    "    nx : int\n",
    "        Nombre de points de grille dans la direction x\n",
    "        \n",
    "    ny : int\n",
    "        Nombre de points de grille dans la direction y\n",
    "   \n",
    "    X  : 2D array of floats\n",
    "       \n",
    "    Y  : 2D array of floats\n",
    "       \n",
    "    psi_i: 2D array of floats\n",
    "           initial guess of psi\n",
    "    omega_i: 2D array of floats\n",
    "           initial guess of omega   \n",
    "    dx : float\n",
    "        mesh size in x direction\n",
    "    dy : float\n",
    "        mesh size in y direction\n",
    "    '''\n",
    "    \n",
    "    dx = l/(nx-1)\n",
    "    dy = h/(ny-1)\n",
    "\n",
    "    x  = numpy.linspace(0,l,nx)\n",
    "    y  = numpy.linspace(0,h,ny)\n",
    "\n",
    "    # Initialisation\n",
    "    psi_i = numpy.zeros((ny,nx))\n",
    "    omega_i=numpy.zeros((ny,nx))\n",
    "\n",
    "    return  x, y, psi_i,omega_i,dx, dy"
   ]
  },
  {
   "cell_type": "markdown",
   "metadata": {},
   "source": [
    "# plot"
   ]
  },
  {
   "cell_type": "code",
   "execution_count": 5,
   "metadata": {
    "collapsed": true
   },
   "outputs": [],
   "source": [
    "def plot_contour(x,y,p,i):\n",
    "    return pyplot.contourf(x,y,p,i, cmap=cm.viridis)"
   ]
  },
  {
   "cell_type": "markdown",
   "metadata": {},
   "source": [
    "# fonction pour trouver la verocité et stream function avec les condiotions aux bords données en méthod de Jacobi"
   ]
  },
  {
   "cell_type": "code",
   "execution_count": 6,
   "metadata": {
    "collapsed": true
   },
   "outputs": [],
   "source": [
    "def vorticity_streamfunction(psi,omega , dx, dy, l1_target):\n",
    "    '''methode de Jacobi\n",
    "    \n",
    "    Parameters:\n",
    "    ----------\n",
    "    omega : 2D array of floats\n",
    "            initial guess for omega\n",
    "    psi : 2D array of floats\n",
    "            Initial guess for psi\n",
    "    dx: float\n",
    "        Mesh size in x direction\n",
    "    dy: float\n",
    "        Mesh size in y direction\n",
    "    l1_target: float\n",
    "        Target difference between two consecutive iterates\n",
    "    \n",
    "    Returns:\n",
    "    -------\n",
    "    omega: 2D array of float\n",
    "        vertocity after relaxation\n",
    "    psi :2D array of float\n",
    "        stream function after relaxation    \n",
    "    '''\n",
    "\n",
    "    l1_norm_omega = 1.\n",
    "    l1_norm_psi = 1.\n",
    "    iterations = 0\n",
    "\n",
    "    u_j = 1.\n",
    "    \n",
    "    while l1_norm_omega > l1_target or l1_norm_psi > l1_target:\n",
    "        \n",
    "        #calcul omega\n",
    "        \n",
    "        omega_n = omega.copy()\n",
    "\n",
    "        omega[1:-1,1:-1] = 1./(2.*(dx**2 + dy**2))* ((omega_n[1:-1,2:] + omega_n[1:-1, :-2])*dy**2 \\\n",
    "                           + (omega_n[2:, 1:-1] + omega_n[:-2, 1:-1])*dx**2)\n",
    "        \n",
    "         #condition aux bords de Neuman\n",
    "            \n",
    "        #surface supérieur   \n",
    "        \n",
    "        omega[-1, 1:-1] = ((-1./(2.*(dy**2)))*((8.*psi[-2, 1:-1]) - psi[-3, 1:-1])) - ((3. * u_j) / dy)\n",
    "        \n",
    "        # surface inférieure\n",
    "        \n",
    "        omega[0, 1:-1] = ((-1./(2.*(dy**2)))*((8.*psi[1, 1:-1]) - psi[2, 1:-1]))\n",
    "        \n",
    "        # surface à droite\n",
    "        \n",
    "        omega[1:-1, -1] = ((-1./(2.*(dx**2)))*((8.*psi[1:-1, -2]) - psi[1:-1, -3]))\n",
    "        \n",
    "        # surface à gauche\n",
    "        \n",
    "        omega[1:-1, 0] = ((-1./(2.*(dx**2)))*((8.*psi[1:-1, 1]) - psi[1:-1, 2]))\n",
    "\n",
    "        l1_norm_omega = L1norm(omega_n, omega)\n",
    "        \n",
    "        # calcul psi\n",
    "\n",
    "        psi_n = psi.copy()\n",
    "    \n",
    "        psi[1:-1,1:-1] = 1./(2.*(dx**2 + dy**2)) *((psi_n[1:-1,2:]+psi_n[1:-1,:-2])*dy**2+\\\n",
    "                                                   (psi_n[2:,1:-1] + psi_n[:-2,1:-1])*dx**2-\\\n",
    "                                                   -omega[1:-1,1:-1]*dx**2*dy**2)\n",
    "                     \n",
    "        # conditions aux bords pour psi sont automatiquement appliqués\n",
    "    \n",
    "        l1_norm_psi = L1norm(psi_n, psi)\n",
    "        \n",
    "        iterations += 1\n",
    "    \n",
    "    print('Nombre de itération de Jacobi: {0:d} '.format(iterations))\n",
    "    return omega, psi"
   ]
  },
  {
   "cell_type": "code",
   "execution_count": 7,
   "metadata": {
    "collapsed": false
   },
   "outputs": [
    {
     "name": "stdout",
     "output_type": "stream",
     "text": [
      "Nombre de itération de Jacobi: 4060 \n",
      " psi_max: 0.099845\n",
      "omega_max: 78.192661\n",
      "[ 0.     -0.0575 -0.0944 -0.0944 -0.0575  0.    ]\n"
     ]
    },
    {
     "data": {
      "text/plain": [
       "<matplotlib.contour.QuadContourSet at 0x14e0700d128>"
      ]
     },
     "execution_count": 7,
     "metadata": {},
     "output_type": "execute_result"
    },
    {
     "data": {
      "image/png": "[encoded data removed]",
      "text/plain": [
       "<matplotlib.figure.Figure at 0x14e06f6d5c0>"
      ]
     },
     "metadata": {},
     "output_type": "display_data"
    }
   ],
   "source": [
    "x, y, psi_initial,omega_initial, dx, dy = initial_guess(nx, ny, l, h)\n",
    "    \n",
    "omega, psi = vorticity_streamfunction(omega_initial, psi_initial, dx, dy, l1_target)\n",
    "\n",
    "psi_max=numpy.absolute(psi).max()\n",
    "\n",
    "omega_max = numpy.absolute(omega).max()\n",
    "\n",
    "solution= numpy.round(psi[32,::8], 4)\n",
    "\n",
    "print (' psi_max: {0:f}'.format(psi_max))\n",
    "print ('omega_max: {0:f}'.format(omega_max))\n",
    "print (solution)\n",
    "\n",
    "plot_contour(x,y,psi,10)"
   ]
  },
  {
   "cell_type": "code",
   "execution_count": null,
   "metadata": {
    "collapsed": true
   },
   "outputs": [],
   "source": []
  }
 ],
 "metadata": {
  "kernelspec": {
   "display_name": "Python 3",
   "language": "python",
   "name": "python3"
  },
  "language_info": {
   "codemirror_mode": {
    "name": "ipython",
    "version": 3
   },
   "file_extension": ".py",
   "mimetype": "text/x-python",
   "name": "python",
   "nbconvert_exporter": "python",
   "pygments_lexer": "ipython3",
   "version": "3.6.0"
  }
 },
 "nbformat": 4,
 "nbformat_minor": 2
}
